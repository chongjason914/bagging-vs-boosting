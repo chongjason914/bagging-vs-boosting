{
 "cells": [
  {
   "cell_type": "code",
   "execution_count": 1,
   "id": "374c0ab4",
   "metadata": {},
   "outputs": [
    {
     "data": {
      "text/html": [
       "<table>\n",
       "<thead><tr><th></th><th scope=col>Fertility</th><th scope=col>Agriculture</th><th scope=col>Examination</th><th scope=col>Education</th><th scope=col>Catholic</th><th scope=col>Infant.Mortality</th></tr></thead>\n",
       "<tbody>\n",
       "\t<tr><th scope=row>Courtelary</th><td>80.2 </td><td>17.0 </td><td>15   </td><td>12   </td><td> 9.96</td><td>22.2 </td></tr>\n",
       "\t<tr><th scope=row>Delemont</th><td>83.1 </td><td>45.1 </td><td> 6   </td><td> 9   </td><td>84.84</td><td>22.2 </td></tr>\n",
       "\t<tr><th scope=row>Franches-Mnt</th><td>92.5 </td><td>39.7 </td><td> 5   </td><td> 5   </td><td>93.40</td><td>20.2 </td></tr>\n",
       "\t<tr><th scope=row>Moutier</th><td>85.8 </td><td>36.5 </td><td>12   </td><td> 7   </td><td>33.77</td><td>20.3 </td></tr>\n",
       "\t<tr><th scope=row>Neuveville</th><td>76.9 </td><td>43.5 </td><td>17   </td><td>15   </td><td> 5.16</td><td>20.6 </td></tr>\n",
       "\t<tr><th scope=row>Porrentruy</th><td>76.1 </td><td>35.3 </td><td> 9   </td><td> 7   </td><td>90.57</td><td>26.6 </td></tr>\n",
       "</tbody>\n",
       "</table>\n"
      ],
      "text/latex": [
       "\\begin{tabular}{r|llllll}\n",
       "  & Fertility & Agriculture & Examination & Education & Catholic & Infant.Mortality\\\\\n",
       "\\hline\n",
       "\tCourtelary & 80.2  & 17.0  & 15    & 12    &  9.96 & 22.2 \\\\\n",
       "\tDelemont & 83.1  & 45.1  &  6    &  9    & 84.84 & 22.2 \\\\\n",
       "\tFranches-Mnt & 92.5  & 39.7  &  5    &  5    & 93.40 & 20.2 \\\\\n",
       "\tMoutier & 85.8  & 36.5  & 12    &  7    & 33.77 & 20.3 \\\\\n",
       "\tNeuveville & 76.9  & 43.5  & 17    & 15    &  5.16 & 20.6 \\\\\n",
       "\tPorrentruy & 76.1  & 35.3  &  9    &  7    & 90.57 & 26.6 \\\\\n",
       "\\end{tabular}\n"
      ],
      "text/markdown": [
       "\n",
       "| <!--/--> | Fertility | Agriculture | Examination | Education | Catholic | Infant.Mortality |\n",
       "|---|---|---|---|---|---|---|\n",
       "| Courtelary | 80.2  | 17.0  | 15    | 12    |  9.96 | 22.2  |\n",
       "| Delemont | 83.1  | 45.1  |  6    |  9    | 84.84 | 22.2  |\n",
       "| Franches-Mnt | 92.5  | 39.7  |  5    |  5    | 93.40 | 20.2  |\n",
       "| Moutier | 85.8  | 36.5  | 12    |  7    | 33.77 | 20.3  |\n",
       "| Neuveville | 76.9  | 43.5  | 17    | 15    |  5.16 | 20.6  |\n",
       "| Porrentruy | 76.1  | 35.3  |  9    |  7    | 90.57 | 26.6  |\n",
       "\n"
      ],
      "text/plain": [
       "             Fertility Agriculture Examination Education Catholic\n",
       "Courtelary   80.2      17.0        15          12         9.96   \n",
       "Delemont     83.1      45.1         6           9        84.84   \n",
       "Franches-Mnt 92.5      39.7         5           5        93.40   \n",
       "Moutier      85.8      36.5        12           7        33.77   \n",
       "Neuveville   76.9      43.5        17          15         5.16   \n",
       "Porrentruy   76.1      35.3         9           7        90.57   \n",
       "             Infant.Mortality\n",
       "Courtelary   22.2            \n",
       "Delemont     22.2            \n",
       "Franches-Mnt 20.2            \n",
       "Moutier      20.3            \n",
       "Neuveville   20.6            \n",
       "Porrentruy   26.6            "
      ]
     },
     "metadata": {},
     "output_type": "display_data"
    }
   ],
   "source": [
    "# help(swiss)\n",
    "head(swiss)"
   ]
  },
  {
   "cell_type": "markdown",
   "id": "fb107d5f",
   "metadata": {},
   "source": [
    "Swiss is a data frame with 47 observations on 6 variables (each of which is in percent) which shows the standardised fertility measure and socio-economic indicators for each of 47 French-speaking provinces of Switzerland at about 1888. "
   ]
  },
  {
   "cell_type": "markdown",
   "id": "911cc3f8",
   "metadata": {},
   "source": [
    "# Single decision tree "
   ]
  },
  {
   "cell_type": "code",
   "execution_count": 2,
   "id": "a7381dcf",
   "metadata": {
    "scrolled": true
   },
   "outputs": [
    {
     "data": {
      "text/html": [
       "<ol class=list-inline>\n",
       "\t<li>38</li>\n",
       "\t<li>43</li>\n",
       "\t<li>2</li>\n",
       "\t<li>34</li>\n",
       "\t<li>29</li>\n",
       "\t<li>30</li>\n",
       "\t<li>41</li>\n",
       "\t<li>3</li>\n",
       "\t<li>14</li>\n",
       "\t<li>8</li>\n",
       "\t<li>9</li>\n",
       "\t<li>21</li>\n",
       "\t<li>17</li>\n",
       "\t<li>6</li>\n",
       "\t<li>20</li>\n",
       "\t<li>22</li>\n",
       "\t<li>5</li>\n",
       "\t<li>37</li>\n",
       "\t<li>46</li>\n",
       "\t<li>45</li>\n",
       "\t<li>25</li>\n",
       "\t<li>32</li>\n",
       "\t<li>31</li>\n",
       "</ol>\n"
      ],
      "text/latex": [
       "\\begin{enumerate*}\n",
       "\\item 38\n",
       "\\item 43\n",
       "\\item 2\n",
       "\\item 34\n",
       "\\item 29\n",
       "\\item 30\n",
       "\\item 41\n",
       "\\item 3\n",
       "\\item 14\n",
       "\\item 8\n",
       "\\item 9\n",
       "\\item 21\n",
       "\\item 17\n",
       "\\item 6\n",
       "\\item 20\n",
       "\\item 22\n",
       "\\item 5\n",
       "\\item 37\n",
       "\\item 46\n",
       "\\item 45\n",
       "\\item 25\n",
       "\\item 32\n",
       "\\item 31\n",
       "\\end{enumerate*}\n"
      ],
      "text/markdown": [
       "1. 38\n",
       "2. 43\n",
       "3. 2\n",
       "4. 34\n",
       "5. 29\n",
       "6. 30\n",
       "7. 41\n",
       "8. 3\n",
       "9. 14\n",
       "10. 8\n",
       "11. 9\n",
       "12. 21\n",
       "13. 17\n",
       "14. 6\n",
       "15. 20\n",
       "16. 22\n",
       "17. 5\n",
       "18. 37\n",
       "19. 46\n",
       "20. 45\n",
       "21. 25\n",
       "22. 32\n",
       "23. 31\n",
       "\n",
       "\n"
      ],
      "text/plain": [
       " [1] 38 43  2 34 29 30 41  3 14  8  9 21 17  6 20 22  5 37 46 45 25 32 31"
      ]
     },
     "metadata": {},
     "output_type": "display_data"
    }
   ],
   "source": [
    "set.seed(20)\n",
    "training.rows = sample(1:nrow(swiss), 0.5*nrow(swiss))\n",
    "training.rows"
   ]
  },
  {
   "cell_type": "code",
   "execution_count": 3,
   "id": "ec0fb632",
   "metadata": {},
   "outputs": [
    {
     "data": {
      "text/html": [
       "<table>\n",
       "<thead><tr><th></th><th scope=col>Fertility</th><th scope=col>Agriculture</th><th scope=col>Examination</th><th scope=col>Education</th><th scope=col>Catholic</th><th scope=col>Infant.Mortality</th></tr></thead>\n",
       "<tbody>\n",
       "\t<tr><th scope=row>Sion</th><td>79.3 </td><td>63.1 </td><td>13   </td><td>13   </td><td>96.83</td><td>18.1 </td></tr>\n",
       "\t<tr><th scope=row>Val de Ruz</th><td>77.6 </td><td>37.6 </td><td>15   </td><td> 7   </td><td> 4.97</td><td>20.0 </td></tr>\n",
       "\t<tr><th scope=row>Delemont</th><td>83.1 </td><td>45.1 </td><td> 6   </td><td> 9   </td><td>84.84</td><td>22.2 </td></tr>\n",
       "\t<tr><th scope=row>Martigwy</th><td>70.5 </td><td>78.2 </td><td>12   </td><td> 6   </td><td>98.96</td><td>19.4 </td></tr>\n",
       "\t<tr><th scope=row>Vevey</th><td>58.3 </td><td>26.8 </td><td>25   </td><td>19   </td><td>18.46</td><td>20.9 </td></tr>\n",
       "\t<tr><th scope=row>Yverdon</th><td>65.4 </td><td>49.5 </td><td>15   </td><td> 8   </td><td> 6.10</td><td>22.5 </td></tr>\n",
       "</tbody>\n",
       "</table>\n"
      ],
      "text/latex": [
       "\\begin{tabular}{r|llllll}\n",
       "  & Fertility & Agriculture & Examination & Education & Catholic & Infant.Mortality\\\\\n",
       "\\hline\n",
       "\tSion & 79.3  & 63.1  & 13    & 13    & 96.83 & 18.1 \\\\\n",
       "\tVal de Ruz & 77.6  & 37.6  & 15    &  7    &  4.97 & 20.0 \\\\\n",
       "\tDelemont & 83.1  & 45.1  &  6    &  9    & 84.84 & 22.2 \\\\\n",
       "\tMartigwy & 70.5  & 78.2  & 12    &  6    & 98.96 & 19.4 \\\\\n",
       "\tVevey & 58.3  & 26.8  & 25    & 19    & 18.46 & 20.9 \\\\\n",
       "\tYverdon & 65.4  & 49.5  & 15    &  8    &  6.10 & 22.5 \\\\\n",
       "\\end{tabular}\n"
      ],
      "text/markdown": [
       "\n",
       "| <!--/--> | Fertility | Agriculture | Examination | Education | Catholic | Infant.Mortality |\n",
       "|---|---|---|---|---|---|---|\n",
       "| Sion | 79.3  | 63.1  | 13    | 13    | 96.83 | 18.1  |\n",
       "| Val de Ruz | 77.6  | 37.6  | 15    |  7    |  4.97 | 20.0  |\n",
       "| Delemont | 83.1  | 45.1  |  6    |  9    | 84.84 | 22.2  |\n",
       "| Martigwy | 70.5  | 78.2  | 12    |  6    | 98.96 | 19.4  |\n",
       "| Vevey | 58.3  | 26.8  | 25    | 19    | 18.46 | 20.9  |\n",
       "| Yverdon | 65.4  | 49.5  | 15    |  8    |  6.10 | 22.5  |\n",
       "\n"
      ],
      "text/plain": [
       "           Fertility Agriculture Examination Education Catholic\n",
       "Sion       79.3      63.1        13          13        96.83   \n",
       "Val de Ruz 77.6      37.6        15           7         4.97   \n",
       "Delemont   83.1      45.1         6           9        84.84   \n",
       "Martigwy   70.5      78.2        12           6        98.96   \n",
       "Vevey      58.3      26.8        25          19        18.46   \n",
       "Yverdon    65.4      49.5        15           8         6.10   \n",
       "           Infant.Mortality\n",
       "Sion       18.1            \n",
       "Val de Ruz 20.0            \n",
       "Delemont   22.2            \n",
       "Martigwy   19.4            \n",
       "Vevey      20.9            \n",
       "Yverdon    22.5            "
      ]
     },
     "metadata": {},
     "output_type": "display_data"
    }
   ],
   "source": [
    "train = swiss[training.rows, ]\n",
    "head(train)"
   ]
  },
  {
   "cell_type": "code",
   "execution_count": 4,
   "id": "5ef33811",
   "metadata": {},
   "outputs": [
    {
     "name": "stderr",
     "output_type": "stream",
     "text": [
      "Warning message:\n",
      "\"package 'tree' was built under R version 3.6.3\""
     ]
    }
   ],
   "source": [
    "# install.packages(\"tree\")\n",
    "library(tree)"
   ]
  },
  {
   "cell_type": "code",
   "execution_count": 5,
   "id": "7183c824",
   "metadata": {},
   "outputs": [
    {
     "data": {
      "text/plain": [
       "node), split, n, deviance, yval\n",
       "      * denotes terminal node\n",
       "\n",
       "1) root 23 4117.0 71.85  \n",
       "  2) Catholic < 67.635 13 1831.0 64.56  \n",
       "    4) Catholic < 5.665 8  183.7 70.40 *\n",
       "    5) Catholic > 5.665 5  938.2 55.22 *\n",
       "  3) Catholic > 67.635 10  697.2 81.33  \n",
       "    6) Infant.Mortality < 20 5  339.5 77.36 *\n",
       "    7) Infant.Mortality > 20 5  200.1 85.30 *"
      ]
     },
     "metadata": {},
     "output_type": "display_data"
    }
   ],
   "source": [
    "s_tree = tree(Fertility ~ ., data = train)\n",
    "s_tree"
   ]
  },
  {
   "cell_type": "code",
   "execution_count": 6,
   "id": "82b705fe",
   "metadata": {},
   "outputs": [
    {
     "data": {
      "image/png": "[encoded data removed]",
      "text/plain": [
       "plot without title"
      ]
     },
     "metadata": {},
     "output_type": "display_data"
    }
   ],
   "source": [
    "plot(s_tree)\n",
    "text(s_tree, pos = 1, offset = 1)"
   ]
  },
  {
   "cell_type": "code",
   "execution_count": 7,
   "id": "addf36ef",
   "metadata": {},
   "outputs": [
    {
     "data": {
      "text/html": [
       "<table>\n",
       "<thead><tr><th></th><th scope=col>Fertility</th><th scope=col>Agriculture</th><th scope=col>Examination</th><th scope=col>Education</th><th scope=col>Catholic</th><th scope=col>Infant.Mortality</th></tr></thead>\n",
       "<tbody>\n",
       "\t<tr><th scope=row>Courtelary</th><td>80.2</td><td>17  </td><td>15  </td><td>12  </td><td>9.96</td><td>22.2</td></tr>\n",
       "</tbody>\n",
       "</table>\n"
      ],
      "text/latex": [
       "\\begin{tabular}{r|llllll}\n",
       "  & Fertility & Agriculture & Examination & Education & Catholic & Infant.Mortality\\\\\n",
       "\\hline\n",
       "\tCourtelary & 80.2 & 17   & 15   & 12   & 9.96 & 22.2\\\\\n",
       "\\end{tabular}\n"
      ],
      "text/markdown": [
       "\n",
       "| <!--/--> | Fertility | Agriculture | Examination | Education | Catholic | Infant.Mortality |\n",
       "|---|---|---|---|---|---|---|\n",
       "| Courtelary | 80.2 | 17   | 15   | 12   | 9.96 | 22.2 |\n",
       "\n"
      ],
      "text/plain": [
       "           Fertility Agriculture Examination Education Catholic\n",
       "Courtelary 80.2      17          15          12        9.96    \n",
       "           Infant.Mortality\n",
       "Courtelary 22.2            "
      ]
     },
     "metadata": {},
     "output_type": "display_data"
    }
   ],
   "source": [
    "swiss[\"Courtelary\", ]"
   ]
  },
  {
   "cell_type": "code",
   "execution_count": 8,
   "id": "0fdf10ae",
   "metadata": {},
   "outputs": [
    {
     "data": {
      "text/html": [
       "<strong>Courtelary:</strong> 55.22"
      ],
      "text/latex": [
       "\\textbf{Courtelary:} 55.22"
      ],
      "text/markdown": [
       "**Courtelary:** 55.22"
      ],
      "text/plain": [
       "Courtelary \n",
       "     55.22 "
      ]
     },
     "metadata": {},
     "output_type": "display_data"
    }
   ],
   "source": [
    "predict(s_tree, swiss[\"Courtelary\", ])"
   ]
  },
  {
   "cell_type": "code",
   "execution_count": 9,
   "id": "77014423",
   "metadata": {},
   "outputs": [],
   "source": [
    "test = swiss[-training.rows, ]\n",
    "y_tree = predict(s_tree, test)"
   ]
  },
  {
   "cell_type": "code",
   "execution_count": 10,
   "id": "f80208e2",
   "metadata": {},
   "outputs": [
    {
     "data": {
      "image/png": "[encoded data removed]",
      "text/plain": [
       "Plot with title \"Predicted vs observed fertility\""
      ]
     },
     "metadata": {},
     "output_type": "display_data"
    }
   ],
   "source": [
    "plot(test$Fertility, y_tree, main = \"Predicted vs observed fertility\",\n",
    "    ylab = \"Predicted values\", xlab = \"Actual values\")\n",
    "abline(0, 1, col = \"red\")"
   ]
  },
  {
   "cell_type": "markdown",
   "id": "d4d66884",
   "metadata": {},
   "source": [
    "# Bootstrapped sample"
   ]
  },
  {
   "cell_type": "code",
   "execution_count": 11,
   "id": "bb042804",
   "metadata": {},
   "outputs": [
    {
     "data": {
      "text/html": [
       "<strong>Courtelary:</strong> 75.68"
      ],
      "text/latex": [
       "\\textbf{Courtelary:} 75.68"
      ],
      "text/markdown": [
       "**Courtelary:** 75.68"
      ],
      "text/plain": [
       "Courtelary \n",
       "     75.68 "
      ]
     },
     "metadata": {},
     "output_type": "display_data"
    }
   ],
   "source": [
    "# Get bootstrapped sampe \n",
    "set.seed(8499)\n",
    "bag.rows = sample(1:nrow(train), replace = TRUE)\n",
    "bag = train[bag.rows, ]\n",
    "\n",
    "# Fit decision tree\n",
    "s_bag = tree(Fertility ~ ., data = bag)\n",
    "\n",
    "# Predict \n",
    "predict(s_bag, test[\"Courtelary\", ])"
   ]
  },
  {
   "cell_type": "markdown",
   "id": "9f51bb2a",
   "metadata": {},
   "source": [
    "The predicted values of 55.22 and 75.68 are quite different. This reflects the fact that a decision tree is typically a high variance model. In other words, using a slightly different data set to train the model can lead to a very different decision tree and hence predictions. \n",
    "\n",
    "One way to approach this issue is with the idea of bagged decision trees where many trees are constructed and the predictions averaged to obtain an overall single prediction.\n",
    "\n",
    "The true value of Fertility for Courtelary is 80.2, so the second tree's prediction of 75.68 is much closer. However, we have only directly compared the prediction for one province. Even though the second tree's prediction is closer for Courtelary, we don't know for certain if it performs better overall. "
   ]
  },
  {
   "cell_type": "markdown",
   "id": "e231722d",
   "metadata": {},
   "source": [
    "# Random forest"
   ]
  },
  {
   "cell_type": "code",
   "execution_count": 12,
   "id": "92dd8f54",
   "metadata": {},
   "outputs": [],
   "source": [
    "trees = 1000\n",
    "preds = matrix(NA, nrow = nrow(test), ncol = trees)"
   ]
  },
  {
   "cell_type": "code",
   "execution_count": 13,
   "id": "dec9cfb7",
   "metadata": {},
   "outputs": [],
   "source": [
    "set.seed(8499)\n",
    "for(i in 1:trees) {\n",
    "    bag.rows = sample(1:nrow(train), replace = TRUE)\n",
    "    bag = train[bag.rows, ]\n",
    "    s_bag = tree(Fertility ~ ., data = bag)\n",
    "    preds[, i] = predict(s_bag, test)\n",
    "}\n",
    "y_bag = rowMeans(preds)"
   ]
  },
  {
   "cell_type": "code",
   "execution_count": 14,
   "id": "9a0b7757",
   "metadata": {},
   "outputs": [
    {
     "data": {
      "image/png": "[encoded data removed]",
      "text/plain": [
       "Plot with title \"Predicted vs observed fertility\""
      ]
     },
     "metadata": {},
     "output_type": "display_data"
    }
   ],
   "source": [
    "plot(test$Fertility, y_bag, main = \"Predicted vs observed fertility\",\n",
    "    ylab = \"Predicted values\", xlab = \"Actual values\")\n",
    "abline(0, 1, col = \"red\")"
   ]
  },
  {
   "cell_type": "markdown",
   "id": "c32470af",
   "metadata": {},
   "source": [
    "The previous graph shows that the single decision tree constructed with the training data performs poorly when predicting the test data. The points are quite far from the reference line and for many of the external nodes the points don't seem broadly scattered around the line. So, the predicted value in these external nodes even appears quite far from the average value of the test data points falling in those nodes. \n",
    "\n",
    "The bagged decision tree approach, on the other hand, appears to perform much better. The points are much more tightly spread around the reference line. However, some points still appear to have large differences between actual and predicted."
   ]
  },
  {
   "cell_type": "code",
   "execution_count": 15,
   "id": "999c5df3",
   "metadata": {},
   "outputs": [
    {
     "data": {
      "text/html": [
       "128.03"
      ],
      "text/latex": [
       "128.03"
      ],
      "text/markdown": [
       "128.03"
      ],
      "text/plain": [
       "[1] 128.03"
      ]
     },
     "metadata": {},
     "output_type": "display_data"
    },
    {
     "data": {
      "text/html": [
       "53.85"
      ],
      "text/latex": [
       "53.85"
      ],
      "text/markdown": [
       "53.85"
      ],
      "text/plain": [
       "[1] 53.85"
      ]
     },
     "metadata": {},
     "output_type": "display_data"
    }
   ],
   "source": [
    "round(mean((test$Fertility - y_tree)^2), 2)\n",
    "round(mean((test$Fertility - y_bag)^2), 2)"
   ]
  },
  {
   "cell_type": "markdown",
   "id": "3b64840c",
   "metadata": {},
   "source": [
    "The MSE for the decision tree is 128.03 and the MSE for the bagged approach is 53.85.\n",
    "\n",
    "As expected, the MSE for the bagged predictions is much lower, indicated that the bagged predictions are much closer to the true values on average. This aligns with our comments about the graphs, the bagged predictions show much better alignment with the true values."
   ]
  }
 ],
 "metadata": {
  "kernelspec": {
   "display_name": "R",
   "language": "R",
   "name": "ir"
  },
  "language_info": {
   "codemirror_mode": "r",
   "file_extension": ".r",
   "mimetype": "text/x-r-source",
   "name": "R",
   "pygments_lexer": "r",
   "version": "3.6.1"
  }
 },
 "nbformat": 4,
 "nbformat_minor": 5
}
